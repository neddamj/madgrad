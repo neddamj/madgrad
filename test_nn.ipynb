{
 "cells": [
  {
   "cell_type": "code",
   "execution_count": 1,
   "metadata": {},
   "outputs": [],
   "source": [
    "from tensor import Tensor\n",
    "import numpy as np\n",
    "\n",
    "import torch\n"
   ]
  },
  {
   "cell_type": "code",
   "execution_count": 2,
   "metadata": {},
   "outputs": [],
   "source": [
    "class Module:\n",
    "    def __init__(self):\n",
    "        pass\n",
    "\n",
    "    def zero_grad(self):\n",
    "        for p in self.parameters():\n",
    "            p.grad = np.zeros_like(p.data)\n",
    "\n",
    "    def params(self):\n",
    "        return []"
   ]
  },
  {
   "cell_type": "code",
   "execution_count": 3,
   "metadata": {},
   "outputs": [],
   "source": [
    "class Linear(Module):\n",
    "    def __init__(self, in_features, out_features, bias=True):\n",
    "        self.bias = bias\n",
    "        self.w = Tensor.normal(shape=(in_features, out_features))\n",
    "        self.b = Tensor.zeros((1, out_features)) if self.bias else None\n",
    "\n",
    "    def __call__(self, x):\n",
    "        x = x if isinstance(x, Tensor) else Tensor(x)\n",
    "        if self.bias:\n",
    "            out = self.w @ x + self.b\n",
    "        else:\n",
    "            out = self.w @ x\n",
    "\n",
    "        return out\n",
    "\n",
    "    def params(self):\n",
    "        return [self.w, self.b]"
   ]
  },
  {
   "cell_type": "code",
   "execution_count": 4,
   "metadata": {},
   "outputs": [
    {
     "name": "stdout",
     "output_type": "stream",
     "text": [
      "Madgrad: Tensor(data=[[ 0.22353754  0.22353754  0.22353754  0.22353754  0.22353754  0.22353754]\n",
      " [ 2.54002636  2.54002636  2.54002636  2.54002636  2.54002636  2.54002636]\n",
      " [-0.74357802 -0.74357802 -0.74357802 -0.74357802 -0.74357802 -0.74357802]\n",
      " [ 0.07711063  0.07711063  0.07711063  0.07711063  0.07711063  0.07711063]\n",
      " [-0.62669134 -0.62669134 -0.62669134 -0.62669134 -0.62669134 -0.62669134]])\n",
      "PyTorch: Tensor(data=[[ 0.22353754  0.22353754  0.22353754  0.22353754  0.22353754  0.22353754]\n",
      " [ 2.54002636  2.54002636  2.54002636  2.54002636  2.54002636  2.54002636]\n",
      " [-0.74357802 -0.74357802 -0.74357802 -0.74357802 -0.74357802 -0.74357802]\n",
      " [ 0.07711063  0.07711063  0.07711063  0.07711063  0.07711063  0.07711063]\n",
      " [-0.62669134 -0.62669134 -0.62669134 -0.62669134 -0.62669134 -0.62669134]])\n"
     ]
    }
   ],
   "source": [
    "# Madgrad linear forward\n",
    "layer = Linear(5, 6)\n",
    "data = Tensor.normal(shape=(1, 6))\n",
    "out = layer(data.transpose())\n",
    "print(f'Madgrad: {out}')\n",
    "# PyTorch linear forward\n",
    "layer_t = torch.nn.Linear(5, 6)\n",
    "data_t = torch.tensor(data.numpy())\n",
    "out_t = layer(data_t.transpose(0, 1))\n",
    "print(f'PyTorch: {out_t}')"
   ]
  },
  {
   "cell_type": "code",
   "execution_count": null,
   "metadata": {},
   "outputs": [],
   "source": [
    "class MLP(Module):\n",
    "    def __init__(self, layer_sizes):\n",
    "        assert isinstance(layer_sizes, tuple) or isinstance(layer_sizes, list), 'layer_sizes must be a list or a tuple'\n",
    "        self.layers = [Linear(layer_sizes[i], layer_sizes[i+1]) for i in range(len(layer_sizes)-1)]\n",
    "\n",
    "    def __call__(self, x):\n",
    "        for i, layer in enumerate(self.layers):\n",
    "            x = layer(x).relu()\n",
    "        return x"
   ]
  }
 ],
 "metadata": {
  "kernelspec": {
   "display_name": "madgrad",
   "language": "python",
   "name": "python3"
  },
  "language_info": {
   "codemirror_mode": {
    "name": "ipython",
    "version": 3
   },
   "file_extension": ".py",
   "mimetype": "text/x-python",
   "name": "python",
   "nbconvert_exporter": "python",
   "pygments_lexer": "ipython3",
   "version": "3.9.13"
  }
 },
 "nbformat": 4,
 "nbformat_minor": 2
}
