{
 "cells": [
  {
   "cell_type": "code",
   "execution_count": 1,
   "metadata": {},
   "outputs": [],
   "source": [
    "import sys\n",
    "sys.path.append('..')\n",
    "\n",
    "from sklearn.datasets import load_diabetes\n",
    "import matplotlib.pyplot as plt\n",
    "import numpy as np\n",
    "\n",
    "import mdgrad\n",
    "import mdgrad.nn as nn\n",
    "import mdgrad.optim as optim"
   ]
  },
  {
   "cell_type": "code",
   "execution_count": 2,
   "metadata": {},
   "outputs": [],
   "source": [
    "diabetes_X, diabetes_y = load_diabetes(return_X_y=True)\n",
    "diabetes_X = diabetes_X[:, np.newaxis, 2]\n",
    "\n",
    "# Split the data into training/testing sets\n",
    "diabetes_X_train = diabetes_X[:-20]\n",
    "diabetes_X_test = diabetes_X[-20:]\n",
    "\n",
    "# Split the targets into training/testing sets\n",
    "diabetes_y_train = diabetes_y[:-20]\n",
    "diabetes_y_test = diabetes_y[-20:]\n",
    "\n",
    "X_train, y_train = mdgrad.tensor(diabetes_X_train), mdgrad.tensor(diabetes_y_train)\n",
    "X_test, y_test = mdgrad.tensor(diabetes_X_test), mdgrad.tensor(diabetes_y_test)\n"
   ]
  },
  {
   "cell_type": "code",
   "execution_count": 3,
   "metadata": {},
   "outputs": [
    {
     "data": {
      "text/plain": [
       "<matplotlib.collections.PathCollection at 0x14818c7c0>"
      ]
     },
     "execution_count": 3,
     "metadata": {},
     "output_type": "execute_result"
    },
    {
     "data": {
      "image/png": "[encoded data removed]",
      "text/plain": [
       "<Figure size 640x480 with 1 Axes>"
      ]
     },
     "metadata": {},
     "output_type": "display_data"
    }
   ],
   "source": [
    "plt.scatter(X_test.numpy(), y_test.numpy())"
   ]
  },
  {
   "cell_type": "code",
   "execution_count": 4,
   "metadata": {},
   "outputs": [],
   "source": [
    "X_train_max, y_train_max, X_test_max, y_test_max = X_train.max(), y_train.max(), X_test.max(), y_test.max()\n",
    "X_train = X_train / X_train_max\n",
    "y_train = y_train.reshape(422, 1) / y_train_max\n",
    "X_test = X_test / X_test_max\n",
    "y_test = y_test.reshape(20, 1) / y_test_max"
   ]
  },
  {
   "cell_type": "code",
   "execution_count": 5,
   "metadata": {},
   "outputs": [],
   "source": [
    "class RegressionModel(nn.Module):\n",
    "    def __init__(self):\n",
    "        super().__init__()\n",
    "        self.l1 = nn.Linear(1, 50)\n",
    "        self.act1 = nn.ReLU()\n",
    "        self.l2 = nn.Linear(50, 150)\n",
    "        self.act2 = nn.ReLU()\n",
    "        self.l3 = nn.Linear(150, 70)\n",
    "        self.act3 = nn.ReLU()\n",
    "        self.l4 = nn.Linear(70, 30)\n",
    "        self.act4 = nn.ReLU()\n",
    "        self.l5 = nn.Linear(30, 10)\n",
    "        self.act5 = nn.ReLU()\n",
    "        self.l6 = nn.Linear(10, 1)\n",
    "\n",
    "    def forward(self, x):\n",
    "        x = self.act1(self.l1(x))\n",
    "        x = self.act2(self.l2(x))\n",
    "        x = self.act3(self.l3(x))\n",
    "        x = self.act4(self.l4(x))\n",
    "        x = self.act5(self.l5(x))\n",
    "        x = self.l6(x)\n",
    "        return x"
   ]
  },
  {
   "cell_type": "code",
   "execution_count": 6,
   "metadata": {},
   "outputs": [],
   "source": [
    "num_epochs = 1500\n",
    "lr = 0.05\n",
    "\n",
    "model = RegressionModel()\n",
    "loss_fn = nn.MSELoss()\n",
    "optimizer = optim.SGD(model.parameters(), lr=lr)"
   ]
  },
  {
   "cell_type": "code",
   "execution_count": 7,
   "metadata": {},
   "outputs": [
    {
     "name": "stdout",
     "output_type": "stream",
     "text": [
      "Epoch: 1\tLoss: 0.2471\n",
      "Epoch: 10\tLoss: 0.0527\n",
      "Epoch: 20\tLoss: 0.0490\n",
      "Epoch: 30\tLoss: 0.0481\n",
      "Epoch: 40\tLoss: 0.0475\n",
      "Epoch: 50\tLoss: 0.0469\n",
      "Epoch: 60\tLoss: 0.0464\n",
      "Epoch: 70\tLoss: 0.0459\n",
      "Epoch: 80\tLoss: 0.0451\n",
      "Epoch: 90\tLoss: 0.0444\n",
      "Epoch: 100\tLoss: 0.0438\n",
      "Epoch: 110\tLoss: 0.0433\n",
      "Epoch: 120\tLoss: 0.0428\n",
      "Epoch: 130\tLoss: 0.0423\n",
      "Epoch: 140\tLoss: 0.0417\n",
      "Epoch: 150\tLoss: 0.0412\n",
      "Epoch: 160\tLoss: 0.0407\n",
      "Epoch: 170\tLoss: 0.0402\n",
      "Epoch: 180\tLoss: 0.0397\n",
      "Epoch: 190\tLoss: 0.0392\n",
      "Epoch: 200\tLoss: 0.0387\n",
      "Epoch: 210\tLoss: 0.0383\n",
      "Epoch: 220\tLoss: 0.0378\n",
      "Epoch: 230\tLoss: 0.0374\n",
      "Epoch: 240\tLoss: 0.0370\n",
      "Epoch: 250\tLoss: 0.0366\n",
      "Epoch: 260\tLoss: 0.0362\n",
      "Epoch: 270\tLoss: 0.0358\n",
      "Epoch: 280\tLoss: 0.0354\n",
      "Epoch: 290\tLoss: 0.0350\n",
      "Epoch: 300\tLoss: 0.0347\n",
      "Epoch: 310\tLoss: 0.0344\n",
      "Epoch: 320\tLoss: 0.0342\n",
      "Epoch: 330\tLoss: 0.0340\n",
      "Epoch: 340\tLoss: 0.0339\n",
      "Epoch: 350\tLoss: 0.0338\n",
      "Epoch: 360\tLoss: 0.0336\n",
      "Epoch: 370\tLoss: 0.0335\n",
      "Epoch: 380\tLoss: 0.0335\n",
      "Epoch: 390\tLoss: 0.0334\n",
      "Epoch: 400\tLoss: 0.0333\n",
      "Epoch: 410\tLoss: 0.0333\n",
      "Epoch: 420\tLoss: 0.0332\n",
      "Epoch: 430\tLoss: 0.0332\n",
      "Epoch: 440\tLoss: 0.0331\n",
      "Epoch: 450\tLoss: 0.0331\n",
      "Epoch: 460\tLoss: 0.0331\n",
      "Epoch: 470\tLoss: 0.0331\n",
      "Epoch: 480\tLoss: 0.0330\n",
      "Epoch: 490\tLoss: 0.0330\n",
      "Epoch: 500\tLoss: 0.0330\n",
      "Epoch: 510\tLoss: 0.0330\n",
      "Epoch: 520\tLoss: 0.0330\n",
      "Epoch: 530\tLoss: 0.0330\n",
      "Epoch: 540\tLoss: 0.0330\n",
      "Epoch: 550\tLoss: 0.0329\n",
      "Epoch: 560\tLoss: 0.0329\n",
      "Epoch: 570\tLoss: 0.0329\n",
      "Epoch: 580\tLoss: 0.0329\n",
      "Epoch: 590\tLoss: 0.0329\n",
      "Epoch: 600\tLoss: 0.0329\n",
      "Epoch: 610\tLoss: 0.0329\n",
      "Epoch: 620\tLoss: 0.0329\n",
      "Epoch: 630\tLoss: 0.0329\n",
      "Epoch: 640\tLoss: 0.0329\n",
      "Epoch: 650\tLoss: 0.0329\n",
      "Epoch: 660\tLoss: 0.0329\n",
      "Epoch: 670\tLoss: 0.0329\n",
      "Epoch: 680\tLoss: 0.0329\n",
      "Epoch: 690\tLoss: 0.0328\n",
      "Epoch: 700\tLoss: 0.0328\n",
      "Epoch: 710\tLoss: 0.0328\n",
      "Epoch: 720\tLoss: 0.0328\n",
      "Epoch: 730\tLoss: 0.0328\n",
      "Epoch: 740\tLoss: 0.0328\n",
      "Epoch: 750\tLoss: 0.0328\n",
      "Epoch: 760\tLoss: 0.0328\n",
      "Epoch: 770\tLoss: 0.0328\n",
      "Epoch: 780\tLoss: 0.0328\n",
      "Epoch: 790\tLoss: 0.0328\n",
      "Epoch: 800\tLoss: 0.0328\n",
      "Epoch: 810\tLoss: 0.0328\n",
      "Epoch: 820\tLoss: 0.0328\n",
      "Epoch: 830\tLoss: 0.0328\n",
      "Epoch: 840\tLoss: 0.0328\n",
      "Epoch: 850\tLoss: 0.0328\n",
      "Epoch: 860\tLoss: 0.0328\n",
      "Epoch: 870\tLoss: 0.0328\n",
      "Epoch: 880\tLoss: 0.0328\n",
      "Epoch: 890\tLoss: 0.0328\n",
      "Epoch: 900\tLoss: 0.0328\n",
      "Epoch: 910\tLoss: 0.0328\n",
      "Epoch: 920\tLoss: 0.0328\n",
      "Epoch: 930\tLoss: 0.0328\n",
      "Epoch: 940\tLoss: 0.0328\n",
      "Epoch: 950\tLoss: 0.0328\n",
      "Epoch: 960\tLoss: 0.0328\n",
      "Epoch: 970\tLoss: 0.0328\n",
      "Epoch: 980\tLoss: 0.0328\n",
      "Epoch: 990\tLoss: 0.0328\n",
      "Epoch: 1000\tLoss: 0.0328\n",
      "Epoch: 1010\tLoss: 0.0328\n",
      "Epoch: 1020\tLoss: 0.0328\n",
      "Epoch: 1030\tLoss: 0.0328\n",
      "Epoch: 1040\tLoss: 0.0328\n",
      "Epoch: 1050\tLoss: 0.0328\n",
      "Epoch: 1060\tLoss: 0.0328\n",
      "Epoch: 1070\tLoss: 0.0328\n",
      "Epoch: 1080\tLoss: 0.0328\n",
      "Epoch: 1090\tLoss: 0.0328\n",
      "Epoch: 1100\tLoss: 0.0328\n",
      "Epoch: 1110\tLoss: 0.0328\n",
      "Epoch: 1120\tLoss: 0.0328\n",
      "Epoch: 1130\tLoss: 0.0328\n",
      "Epoch: 1140\tLoss: 0.0328\n",
      "Epoch: 1150\tLoss: 0.0328\n",
      "Epoch: 1160\tLoss: 0.0328\n",
      "Epoch: 1170\tLoss: 0.0328\n",
      "Epoch: 1180\tLoss: 0.0328\n",
      "Epoch: 1190\tLoss: 0.0328\n",
      "Epoch: 1200\tLoss: 0.0328\n",
      "Epoch: 1210\tLoss: 0.0328\n",
      "Epoch: 1220\tLoss: 0.0328\n",
      "Epoch: 1230\tLoss: 0.0328\n",
      "Epoch: 1240\tLoss: 0.0328\n",
      "Epoch: 1250\tLoss: 0.0328\n",
      "Epoch: 1260\tLoss: 0.0328\n",
      "Epoch: 1270\tLoss: 0.0328\n",
      "Epoch: 1280\tLoss: 0.0328\n",
      "Epoch: 1290\tLoss: 0.0328\n",
      "Epoch: 1300\tLoss: 0.0328\n",
      "Epoch: 1310\tLoss: 0.0328\n",
      "Epoch: 1320\tLoss: 0.0328\n",
      "Epoch: 1330\tLoss: 0.0328\n",
      "Epoch: 1340\tLoss: 0.0328\n",
      "Epoch: 1350\tLoss: 0.0328\n",
      "Epoch: 1360\tLoss: 0.0328\n",
      "Epoch: 1370\tLoss: 0.0328\n",
      "Epoch: 1380\tLoss: 0.0328\n",
      "Epoch: 1390\tLoss: 0.0328\n",
      "Epoch: 1400\tLoss: 0.0328\n",
      "Epoch: 1410\tLoss: 0.0328\n",
      "Epoch: 1420\tLoss: 0.0328\n",
      "Epoch: 1430\tLoss: 0.0328\n",
      "Epoch: 1440\tLoss: 0.0328\n",
      "Epoch: 1450\tLoss: 0.0328\n",
      "Epoch: 1460\tLoss: 0.0328\n",
      "Epoch: 1470\tLoss: 0.0328\n",
      "Epoch: 1480\tLoss: 0.0328\n",
      "Epoch: 1490\tLoss: 0.0328\n",
      "Epoch: 1500\tLoss: 0.0328\n"
     ]
    }
   ],
   "source": [
    "losses = []\n",
    "\n",
    "for i in range(num_epochs):\n",
    "    y_pred = model(X_train)\n",
    "    loss = loss_fn(y_pred, y_train)\n",
    "    \n",
    "    if (i+1) % 10 == 0 or i == 0:\n",
    "        print(f'Epoch: {i+1}\\tLoss: {loss[0][0]:.4f}')\n",
    "\n",
    "    # Optimize the model\n",
    "    optimizer.zero_grad()\n",
    "    loss.backward()\n",
    "    optimizer.step()\n",
    "\n",
    "    # Track performance\n",
    "    losses.append(loss[0][0])\n",
    "    \n"
   ]
  },
  {
   "cell_type": "code",
   "execution_count": 8,
   "metadata": {},
   "outputs": [],
   "source": [
    "x_vals = mdgrad.tensor(np.linspace(-0.9, 1.0, 1000)).reshape(1000, 1)\n",
    "y_vals = model(x_vals)"
   ]
  },
  {
   "cell_type": "code",
   "execution_count": 9,
   "metadata": {},
   "outputs": [
    {
     "data": {
      "text/plain": [
       "<matplotlib.legend.Legend at 0x1482e4490>"
      ]
     },
     "execution_count": 9,
     "metadata": {},
     "output_type": "execute_result"
    },
    {
     "data": {
      "image/png": "[encoded data removed]",
      "text/plain": [
       "<Figure size 640x480 with 1 Axes>"
      ]
     },
     "metadata": {},
     "output_type": "display_data"
    }
   ],
   "source": [
    "plt.scatter(X_test.numpy(), y_test.numpy(), label='True Data')\n",
    "plt.plot(x_vals, y_vals, 'r', label='Prediction')\n",
    "plt.legend()"
   ]
  },
  {
   "cell_type": "code",
   "execution_count": null,
   "metadata": {},
   "outputs": [],
   "source": []
  }
 ],
 "metadata": {
  "kernelspec": {
   "display_name": "nhash",
   "language": "python",
   "name": "python3"
  },
  "language_info": {
   "codemirror_mode": {
    "name": "ipython",
    "version": 3
   },
   "file_extension": ".py",
   "mimetype": "text/x-python",
   "name": "python",
   "nbconvert_exporter": "python",
   "pygments_lexer": "ipython3",
   "version": "3.8.19"
  }
 },
 "nbformat": 4,
 "nbformat_minor": 2
}
