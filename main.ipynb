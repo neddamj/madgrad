{
 "cells": [
  {
   "cell_type": "code",
   "execution_count": 3,
   "metadata": {},
   "outputs": [],
   "source": [
    "import numpy as np"
   ]
  },
  {
   "cell_type": "code",
   "execution_count": 50,
   "metadata": {},
   "outputs": [],
   "source": [
    "class Tensor:\n",
    "    def __init__(self, data, _children=()):\n",
    "        self.data = data if isinstance(data, np.ndarray) else np.array(data)\n",
    "        self.prev = set(_children)\n",
    "        self.grad = np.zeros_like(data)\n",
    "        self.shape = self.data.shape\n",
    "\n",
    "    def __repr__(self) -> str:\n",
    "        return f'Tensor(data={self.data})'\n",
    "    \n",
    "    def __add__(self, other):\n",
    "        # Elementwise addition. Tensors must be the same size, or one of \n",
    "        # them must be a scalar \n",
    "        other = other if isinstance(other, Tensor) else Tensor(other)\n",
    "        out = Tensor(self.data + other.data, (self, other))\n",
    "        return out\n",
    "\n",
    "    def __mul__(self, other):\n",
    "        # Elementwise multiplication. Tensors must be the same size, or one of \n",
    "        # them must be a scalar \n",
    "        other = other if isinstance(other, Tensor) else Tensor(other)\n",
    "        out = Tensor(self.data * other.data, (self, other))\n",
    "        return out\n",
    "    \n",
    "    def __pow__(self, other):\n",
    "        # The exponent must be a scalar\n",
    "        assert isinstance(other, (int, float)), \"Exponent must be a scalar (int/float)\"\n",
    "        out = Tensor(self.data ** other, (self, other))\n",
    "        return out\n",
    "\n",
    "    def __neg__(self):\n",
    "        return self * -1\n",
    "    \n"
   ]
  },
  {
   "cell_type": "code",
   "execution_count": 51,
   "metadata": {},
   "outputs": [
    {
     "name": "stdout",
     "output_type": "stream",
     "text": [
      "Tensor(data=[5 7 9])\n"
     ]
    }
   ],
   "source": [
    "a = Tensor([1, 2, 3])\n",
    "b = Tensor([4, 5, 6])\n",
    "c = a + b\n",
    "print(c)"
   ]
  },
  {
   "cell_type": "code",
   "execution_count": 52,
   "metadata": {},
   "outputs": [
    {
     "name": "stdout",
     "output_type": "stream",
     "text": [
      "Tensor(data=[32.    8.   15.75])\n"
     ]
    }
   ],
   "source": [
    "a = Tensor([16.0, 2.0, 4.5])\n",
    "b = Tensor([2.0, 4.0, 3.5])\n",
    "c = a * b\n",
    "print(c)"
   ]
  },
  {
   "cell_type": "code",
   "execution_count": 58,
   "metadata": {},
   "outputs": [
    {
     "name": "stdout",
     "output_type": "stream",
     "text": [
      "Tensor(data=[[  8.     64.    125.   ]\n",
      " [  1.    166.375  13.824]])\n"
     ]
    }
   ],
   "source": [
    "a = Tensor([[2.0, 4.0, 5.0], \n",
    "           [1.0, 5.5, 2.4]])\n",
    "b = 3.0\n",
    "c = a ** b\n",
    "print(c)"
   ]
  },
  {
   "cell_type": "code",
   "execution_count": null,
   "metadata": {},
   "outputs": [],
   "source": []
  }
 ],
 "metadata": {
  "kernelspec": {
   "display_name": "madgrad",
   "language": "python",
   "name": "python3"
  },
  "language_info": {
   "codemirror_mode": {
    "name": "ipython",
    "version": 3
   },
   "file_extension": ".py",
   "mimetype": "text/x-python",
   "name": "python",
   "nbconvert_exporter": "python",
   "pygments_lexer": "ipython3",
   "version": "3.9.13"
  }
 },
 "nbformat": 4,
 "nbformat_minor": 2
}
