{
 "cells": [
  {
   "cell_type": "code",
   "execution_count": 1,
   "metadata": {},
   "outputs": [],
   "source": [
    "import numpy as np\n",
    "import torch"
   ]
  },
  {
   "cell_type": "markdown",
   "metadata": {},
   "source": [
    "### To Be Added\n",
    "\n",
    "1. softmax forward and backward\n",
    "2. ~~convert tensor to numpy array~~\n"
   ]
  },
  {
   "cell_type": "code",
   "execution_count": 2,
   "metadata": {},
   "outputs": [],
   "source": [
    "class Tensor:\n",
    "    def __init__(self, data, _children=()):\n",
    "        self.data = data if isinstance(data, np.ndarray) else np.array(data)\n",
    "        # Set data to floats to division can be done\n",
    "        self.data = self.data.astype(float) \n",
    "        self._prev = set(_children)\n",
    "        self.grad = np.zeros_like(self.data)\n",
    "        self.shape = self.data.shape\n",
    "        self.size = self.data.size\n",
    "        self._backward = lambda: None\n",
    "    \n",
    "    def __add__(self, other):\n",
    "        # Elementwise addition. Tensors must be the same size, or one of \n",
    "        # them must be a scalar \n",
    "        other = other if isinstance(other, Tensor) else Tensor(other)\n",
    "        out = Tensor(self.data + other.data, (self, other))\n",
    "\n",
    "        def _backward():\n",
    "            print('\\n+')\n",
    "            self.grad += out.grad\n",
    "            other.grad += out.grad\n",
    "        out._backward = _backward\n",
    "\n",
    "        return out\n",
    "    \n",
    "    def __sub__(self, other):    \n",
    "        other = other if isinstance(other, Tensor) else Tensor(other)\n",
    "        out = Tensor(self.data - other.data, (self, other))\n",
    "\n",
    "        def _backward():\n",
    "            print('\\n-')\n",
    "            self.grad += out.grad\n",
    "            other.grad -= out.grad\n",
    "        out._backward = _backward\n",
    "\n",
    "        return out\n",
    "\n",
    "    def __mul__(self, other):\n",
    "        # Elementwise multiplication. Tensors must be the same size, or one of \n",
    "        # them must be a scalar \n",
    "        other = other if isinstance(other, Tensor) else Tensor(other)\n",
    "        out = Tensor(self.data * other.data, (self, other))\n",
    "\n",
    "        def _backward():\n",
    "            print('\\n*')\n",
    "            self.grad += other.data * out.grad\n",
    "            other.grad += self.data * out.grad\n",
    "        out._backward = _backward\n",
    "\n",
    "        return out\n",
    "    \n",
    "    def __pow__(self, other):\n",
    "        # The exponent must be a scalar\n",
    "        assert isinstance(other, (int, float)), \"Exponent must be a scalar (int/float)\"\n",
    "        out = Tensor(self.data ** other, (self, other))\n",
    "\n",
    "        def _backward():\n",
    "            print('\\n**')\n",
    "            self.grad += (other * self.data ** (other -1)) * out.grad\n",
    "        out._backward = _backward\n",
    "\n",
    "        return out\n",
    "    \n",
    "    def __matmul__(self, other):\n",
    "        # Rows of self must match columns of other\n",
    "        other = other if isinstance(other, Tensor) else Tensor(other)\n",
    "        out = Tensor(self.data @ other.data, (self, other))\n",
    "\n",
    "        def _backward():\n",
    "            print('\\nmatmul')\n",
    "            \"\"\"print(f'\\nself data shape = {self.data.shape}')\n",
    "            print(f'other data shape = {other.data.shape}')\n",
    "            print(f'output data shape = {out.data.shape}')\n",
    "            print(f'self grad shape = {out.grad.shape}@{other.data.T.shape}')\n",
    "            print(f'other grad shape = {self.data.T.shape}@{out.grad.shape}')\"\"\"\n",
    "            self.grad += out.grad @ np.transpose(other.data)\n",
    "            other.grad += np.transpose(self.data) @ out.grad\n",
    "        out._backward = _backward\n",
    "\n",
    "        return out\n",
    "    \n",
    "    def relu(self):\n",
    "        out = self.data * (self.data > 0)\n",
    "        out = Tensor(self.data * (self.data > 0), (self,))\n",
    "\n",
    "        def _backward():\n",
    "            print('\\nrelu')\n",
    "            self.grad += (self.data > 0) * out.grad\n",
    "        out._backward = _backward\n",
    "\n",
    "        return out\n",
    "    \n",
    "    def transpose(self,):\n",
    "        out = Tensor(np.transpose(self.data), (self,))\n",
    "        \n",
    "        def _backward():\n",
    "            print('\\ntranspose')\n",
    "            self.grad += np.transpose(out.grad)\n",
    "        out._backward = _backward\n",
    "        \n",
    "        return out\n",
    "    \n",
    "    def log(self):\n",
    "        print(self.data)\n",
    "        val = Tensor(np.log(self.data) + 1e-9, (self,))\n",
    "        print(val)\n",
    "        out = val\n",
    "\n",
    "        def _backward():\n",
    "            print('\\nlog')\n",
    "            self.grad += (1/self.data) * out.grad\n",
    "        out._backward = _backward\n",
    "\n",
    "        return out\n",
    "    \n",
    "    def exp(self):\n",
    "        out = Tensor(np.exp(self.data), (self,))\n",
    "        \n",
    "        def _backward():\n",
    "            print('\\nexp')\n",
    "            self.grad += np.exp(self.data) * out.grad\n",
    "        out._backward = _backward\n",
    "\n",
    "        return out\n",
    "    \n",
    "    def sigmoid(self):\n",
    "        value = 1/(1 + np.exp(-self.data))\n",
    "        out = Tensor(value, (self,))\n",
    "        \n",
    "        def _backward():\n",
    "            print('\\nsigmoid')\n",
    "            exp = np.exp(-self.data)\n",
    "            g = exp/((1+exp)**2)\n",
    "            self.grad += g * out.grad\n",
    "        out._backward = _backward\n",
    "\n",
    "        return out\n",
    "    \n",
    "    def tanh(self):\n",
    "        val = (np.exp(self.data) - np.exp(-self.data))/(np.exp(self.data) + np.exp(-self.data))\n",
    "        out = Tensor(val, (self,))\n",
    "\n",
    "        def _backward():\n",
    "            print('\\ntanh')\n",
    "            self.grad += (1 - val**2) * out.grad\n",
    "        out._backward = _backward\n",
    "\n",
    "        return out\n",
    "    \n",
    "    def softmax(self, dim=1):\n",
    "        exps = np.exp(self.data - np.max(self.data, axis=dim, keepdims=True))\n",
    "        probs = exps / np.sum(exps, axis=dim, keepdims=True)\n",
    "        out = Tensor(probs, (self,))\n",
    "\n",
    "        def _backward():\n",
    "            print('\\nsoftmax')\n",
    "            for i, (output, grad) in enumerate(zip(out.data, out.grad)):\n",
    "                output = output.reshape(-1, 1)\n",
    "                jacobian = np.diagflat(output) - output @ np.transpose(output)\n",
    "                g = np.transpose(jacobian @ np.transpose(grad))\n",
    "                self.grad[i] = g\n",
    "        out._backward = _backward\n",
    "\n",
    "        return out\n",
    "    \n",
    "    def reshape(self, *new_shape):\n",
    "        old_shape = self.shape\n",
    "        out = Tensor(self.data.reshape(*new_shape), (self,))\n",
    "\n",
    "        def _backward():\n",
    "            print('\\reshape')\n",
    "            self.grad += out.grad.reshape(old_shape)\n",
    "        out._backward = _backward\n",
    "\n",
    "        return out\n",
    "    \n",
    "    def backward(self):\n",
    "        # https://github.com/karpathy/micrograd/blob/master/micrograd/engine.py\n",
    "        # topological order all of the children in the graph\n",
    "        \n",
    "        topo = []\n",
    "        visited = set()\n",
    "        def build_topo(v):\n",
    "            if v not in visited:\n",
    "                visited.add(v)\n",
    "                for child in v._prev:\n",
    "                    build_topo(child)\n",
    "                topo.append(v)\n",
    "        build_topo(self)\n",
    "\n",
    "        # go one variable at a time and apply the chain rule to get its gradient\n",
    "        self.grad = np.ones_like(self.data)\n",
    "        for v in reversed(topo):\n",
    "            v._backward() \n",
    "    \n",
    "    def max(self):\n",
    "        return np.max(self.data)\n",
    "    \n",
    "    def min(self):\n",
    "        return np.min(self.data)\n",
    "    \n",
    "    def numpy(self):\n",
    "        return np.array(self.data)\n",
    "        \n",
    "    @classmethod\n",
    "    def zeros(cls, shape):\n",
    "        assert isinstance(shape, int) or isinstance(shape, tuple), f'shape should be int or tuple insted of {type(shape)}'\n",
    "        return cls(np.zeros(shape))\n",
    "\n",
    "    @classmethod\n",
    "    def ones(cls, shape):\n",
    "        assert isinstance(shape, int) or isinstance(shape, tuple), f'shape should be int or tuple insted of {type(shape)}'\n",
    "        return cls(np.ones(shape))\n",
    "    \n",
    "    @classmethod\n",
    "    def normal(cls, mean=0.0, std=1.0, shape=None):\n",
    "        assert isinstance(shape, int) or isinstance(shape, tuple), f'shape should be int or tuple insted of {type(shape)}'\n",
    "        return cls(np.random.normal(mean, std, shape))\n",
    "    \n",
    "    @classmethod\n",
    "    def eye(cls, N, M=None):\n",
    "        return cls(np.eye(N, M))\n",
    "\n",
    "    def __neg__(self):\n",
    "        return self * -1\n",
    "    \n",
    "    def __radd__(self, other):\n",
    "        return self + other\n",
    "    \n",
    "    def __rsub__(self, other):\n",
    "        return other - self\n",
    "    \n",
    "    def __rmul__(self, other):\n",
    "        return self * other\n",
    "    \n",
    "    def __truediv__(self, other):\n",
    "        return self * other**-1\n",
    "    \n",
    "    def __rtruediv__(self, other):\n",
    "        return other * self**-1\n",
    "    \n",
    "    def __repr__(self):\n",
    "        return f'Tensor(data={self.data})'\n",
    "    \n",
    "    def __len__(self):\n",
    "        return len(self.data)\n",
    "    \n",
    "    def __iter__(self):\n",
    "        # Track the current element in the iterable\n",
    "        self.current = 0\n",
    "        return self\n",
    "    \n",
    "    def __next__(self):\n",
    "        if self.current >= len(self.data):\n",
    "            raise StopIteration\n",
    "        current = self.data[self.current]\n",
    "        self.current += 1\n",
    "        return current\n",
    "    \n",
    "    def __getitem__(self, key):\n",
    "        return self.data[key]\n",
    "    \n",
    "    def __setitem__(self, key, value):\n",
    "        self.data[key] = value"
   ]
  },
  {
   "cell_type": "markdown",
   "metadata": {},
   "source": [
    "## Test Basic Ops"
   ]
  },
  {
   "cell_type": "code",
   "execution_count": 3,
   "metadata": {},
   "outputs": [
    {
     "name": "stdout",
     "output_type": "stream",
     "text": [
      "Tensor(data=[5. 7. 9.])\n",
      "Tensor(data=[1.         0.42857143 0.3       ])\n"
     ]
    }
   ],
   "source": [
    "a = Tensor([1, 2, 3])\n",
    "b = Tensor([4, 5, 6])\n",
    "c = a + b\n",
    "print(c)\n",
    "d = Tensor([5, 3.0, 2.7])\n",
    "e = d/c\n",
    "print(e)"
   ]
  },
  {
   "cell_type": "code",
   "execution_count": 4,
   "metadata": {},
   "outputs": [
    {
     "name": "stdout",
     "output_type": "stream",
     "text": [
      "Tensor(data=[32.    8.   15.75])\n"
     ]
    }
   ],
   "source": [
    "a = Tensor([16.0, 2.0, 4.5])\n",
    "b = Tensor([2.0, 4.0, 3.5])\n",
    "c = a * b\n",
    "print(c)"
   ]
  },
  {
   "cell_type": "code",
   "execution_count": 5,
   "metadata": {},
   "outputs": [
    {
     "name": "stdout",
     "output_type": "stream",
     "text": [
      "Tensor(data=[[  8.     64.    125.   ]\n",
      " [  1.    166.375  13.824]])\n"
     ]
    }
   ],
   "source": [
    "a = Tensor([[2.0, 4.0, 5.0], \n",
    "           [1.0, 5.5, 2.4]])\n",
    "b = 3.0\n",
    "c = a ** b\n",
    "print(c)"
   ]
  },
  {
   "cell_type": "code",
   "execution_count": 6,
   "metadata": {},
   "outputs": [
    {
     "data": {
      "text/plain": [
       "Tensor(data=[[-0.   4.   5. ]\n",
       " [ 1.  -0.   2.4]])"
      ]
     },
     "execution_count": 6,
     "metadata": {},
     "output_type": "execute_result"
    }
   ],
   "source": [
    "a = Tensor([[-2.0, 4.0, 5.0], \n",
    "           [1.0, -5.5, 2.4]])\n",
    "a.relu()"
   ]
  },
  {
   "cell_type": "code",
   "execution_count": 7,
   "metadata": {},
   "outputs": [
    {
     "name": "stdout",
     "output_type": "stream",
     "text": [
      "Tensor(data=7.5)\n"
     ]
    }
   ],
   "source": [
    "a = Tensor([2.5])\n",
    "b = Tensor([3.0])\n",
    "c = a @ b\n",
    "print(c)"
   ]
  },
  {
   "cell_type": "code",
   "execution_count": 8,
   "metadata": {},
   "outputs": [
    {
     "name": "stdout",
     "output_type": "stream",
     "text": [
      "(2, 3) (3, 2) (2, 2)\n"
     ]
    }
   ],
   "source": [
    "a = Tensor([[-2.0, 4.0, 5.0], \n",
    "           [1.0, -5.5, 2.4]])\n",
    "b = Tensor([[-2.0, 4.0], \n",
    "           [1.0, 2.4],\n",
    "           [1.4, 9.0]])\n",
    "c = a @ b\n",
    "print(a.shape, b.shape, c.shape)"
   ]
  },
  {
   "cell_type": "code",
   "execution_count": 9,
   "metadata": {},
   "outputs": [
    {
     "name": "stdout",
     "output_type": "stream",
     "text": [
      "[[2.  4.  5. ]\n",
      " [1.  5.5 2.4]]\n",
      "Tensor(data=[[6.93147182e-01 1.38629436e+00 1.60943791e+00]\n",
      " [1.00000000e-09 1.70474809e+00 8.75468738e-01]])\n"
     ]
    },
    {
     "data": {
      "text/plain": [
       "Tensor(data=[[6.93147182e-01 1.38629436e+00 1.60943791e+00]\n",
       " [1.00000000e-09 1.70474809e+00 8.75468738e-01]])"
      ]
     },
     "execution_count": 9,
     "metadata": {},
     "output_type": "execute_result"
    }
   ],
   "source": [
    "a = Tensor([[2.0, 4.0, 5.0], \n",
    "           [1.0, 5.5, 2.4]])\n",
    "a.log()"
   ]
  },
  {
   "cell_type": "code",
   "execution_count": 10,
   "metadata": {},
   "outputs": [
    {
     "name": "stdout",
     "output_type": "stream",
     "text": [
      "[[1.35335283e-01 5.45981500e+01 1.48413159e+02]\n",
      " [2.71828183e+00 4.08677144e-03 1.10231764e+01]]\n",
      "Tensor(data=[[1.35335283e-01 5.45981500e+01 1.48413159e+02]\n",
      " [2.71828183e+00 4.08677144e-03 1.10231764e+01]])\n"
     ]
    }
   ],
   "source": [
    "a = Tensor([[-2.0, 4.0, 5.0], \n",
    "           [1.0, -5.5, 2.4]])\n",
    "print(np.exp(a.data))\n",
    "print(a.exp())"
   ]
  },
  {
   "cell_type": "code",
   "execution_count": 11,
   "metadata": {},
   "outputs": [],
   "source": [
    "grads = Tensor.normal(shape=(2, 2))\n",
    "data = Tensor.normal(shape=(2, 2))"
   ]
  },
  {
   "cell_type": "code",
   "execution_count": 12,
   "metadata": {},
   "outputs": [],
   "source": [
    "data = data.reshape(-1, 1)"
   ]
  },
  {
   "cell_type": "code",
   "execution_count": 13,
   "metadata": {},
   "outputs": [
    {
     "data": {
      "text/plain": [
       "array([[ 0.20773543, -1.66052635, -0.52589174,  0.0077555 ],\n",
       "       [-1.66052635, -3.18512408, -1.75406352,  0.02586776],\n",
       "       [-0.52589174, -1.75406352,  0.18981374,  0.00819237],\n",
       "       [ 0.0077555 ,  0.02586776,  0.00819237, -0.01111243]])"
      ]
     },
     "execution_count": 13,
     "metadata": {},
     "output_type": "execute_result"
    }
   ],
   "source": [
    "jacobian = np.diagflat(data) - data @ data.transpose()\n",
    "jacobian"
   ]
  },
  {
   "cell_type": "code",
   "execution_count": null,
   "metadata": {},
   "outputs": [],
   "source": []
  },
  {
   "cell_type": "code",
   "execution_count": null,
   "metadata": {},
   "outputs": [],
   "source": []
  },
  {
   "cell_type": "code",
   "execution_count": 14,
   "metadata": {},
   "outputs": [
    {
     "data": {
      "text/plain": [
       "tensor([[4.7426e-02, 9.9993e-01, 9.3086e-01],\n",
       "        [9.5257e-01, 7.4846e-05, 6.9138e-02]], dtype=torch.float64)"
      ]
     },
     "execution_count": 14,
     "metadata": {},
     "output_type": "execute_result"
    }
   ],
   "source": [
    "a_t = torch.tensor(a.numpy())\n",
    "a_t.softmax(dim=0)"
   ]
  },
  {
   "cell_type": "markdown",
   "metadata": {},
   "source": [
    "## Test Autodiff"
   ]
  },
  {
   "cell_type": "code",
   "execution_count": 28,
   "metadata": {},
   "outputs": [
    {
     "name": "stdout",
     "output_type": "stream",
     "text": [
      "\n",
      "matmul\n",
      "\n",
      "matmul\n",
      "\n",
      "matmul\n",
      "\n",
      "relu\n",
      "\n",
      "softmax\n",
      "\n",
      "-\n",
      "\n",
      "*\n",
      "\n",
      "tanh\n",
      "\n",
      "sigmoid\n",
      "\n",
      "transpose\n",
      "[[2.47108042 6.34344553]\n",
      " [2.91497526 6.5319404 ]]\n",
      "[[-5.10957611e-06  6.17955604e-01]\n",
      " [-2.26668383e+00  1.09073046e+00]]\n",
      "[[-2.30013379  2.30013379]\n",
      " [-7.38271341  7.38271341]]\n",
      "[[ -3.4    5.85]\n",
      " [-10.88  18.72]]\n",
      "[[1.2  3.1 ]\n",
      " [3.84 9.92]]\n",
      "[[1. ]\n",
      " [3.2]]\n"
     ]
    }
   ],
   "source": [
    "x1 = Tensor([[-8.0, 1.0], [2.0, 1.5]])\n",
    "w1 = Tensor([[3.2, 1.2], [1.0, 1.5]])\n",
    "x1 = x1.transpose()\n",
    "c1 = x1.sigmoid()\n",
    "d1 = w1.tanh()\n",
    "z1 = d1 * c1 - c1\n",
    "z1i = z1.softmax(dim=1)\n",
    "q1 = z1i.relu()\n",
    "y1 = q1 @ x1\n",
    "s1 = y1 @ Tensor([[1.2], [3.1]])\n",
    "t1 = Tensor([[1.0, 3.2]]) @ s1\n",
    "t1.backward()\n",
    "\n",
    "print(x1.grad)\n",
    "print(w1.grad)\n",
    "print(z1.grad)\n",
    "print(q1.grad)\n",
    "print(y1.grad)\n",
    "print(s1.grad)"
   ]
  },
  {
   "cell_type": "code",
   "execution_count": 27,
   "metadata": {},
   "outputs": [
    {
     "name": "stdout",
     "output_type": "stream",
     "text": [
      "tensor([[2.4711, 6.3434],\n",
      "        [2.9150, 6.5319]])\n",
      "tensor([[-5.1096e-06,  6.1796e-01],\n",
      "        [-2.2667e+00,  1.0907e+00]])\n",
      "tensor([[-2.3001,  2.3001],\n",
      "        [-7.3827,  7.3827]])\n",
      "tensor([[ -3.4000,   5.8500],\n",
      "        [-10.8800,  18.7200]])\n",
      "tensor([[1.2000, 3.1000],\n",
      "        [3.8400, 9.9200]])\n",
      "tensor([[1.0000],\n",
      "        [3.2000]])\n"
     ]
    }
   ],
   "source": [
    "import torch\n",
    "\n",
    "x = torch.Tensor([[-8.0, 1.0], [2.0, 1.5]]); x.requires_grad = True\n",
    "w = torch.Tensor([[3.2, 1.2], [1.0, 1.5]]); w.requires_grad = True\n",
    "x = x.transpose(0,1) ; x.retain_grad()\n",
    "c = x.sigmoid() ; c.retain_grad()\n",
    "d = w.tanh(); c.retain_grad()\n",
    "z = d * c - c; z.retain_grad()\n",
    "zi = z.softmax(dim=1); zi.retain_grad()\n",
    "q = zi.relu(); q.retain_grad()\n",
    "y = q @ x; y.retain_grad()\n",
    "s = y @ torch.Tensor([[1.2], [3.1]]); s.retain_grad()\n",
    "t = torch.Tensor([[1.0, 3.2]]) @ s\n",
    "t.backward()\n",
    "\n",
    "print(x.grad)\n",
    "print(w.grad)\n",
    "print(z.grad)\n",
    "print(q.grad)\n",
    "print(y.grad)\n",
    "print(s.grad)"
   ]
  },
  {
   "cell_type": "code",
   "execution_count": 22,
   "metadata": {},
   "outputs": [
    {
     "data": {
      "text/plain": [
       "tensor([[-8.0000,  2.0000],\n",
       "        [ 1.0000,  1.5000]], requires_grad=True)"
      ]
     },
     "execution_count": 22,
     "metadata": {},
     "output_type": "execute_result"
    }
   ],
   "source": [
    "x"
   ]
  },
  {
   "cell_type": "code",
   "execution_count": 23,
   "metadata": {},
   "outputs": [
    {
     "data": {
      "text/plain": [
       "tensor([[-8.0000,  1.0000],\n",
       "        [ 2.0000,  1.5000]], grad_fn=<TransposeBackward0>)"
      ]
     },
     "execution_count": 23,
     "metadata": {},
     "output_type": "execute_result"
    }
   ],
   "source": [
    "x.transpose(0,1)"
   ]
  },
  {
   "cell_type": "markdown",
   "metadata": {},
   "source": [
    "## Test Iterable"
   ]
  },
  {
   "cell_type": "code",
   "execution_count": null,
   "metadata": {},
   "outputs": [],
   "source": [
    "a = Tensor([[-2.0, 4.0, 5.0], \n",
    "           [1.0, -5.5, 2.4]])\n",
    "for array in a:\n",
    "    print(array)"
   ]
  },
  {
   "cell_type": "code",
   "execution_count": null,
   "metadata": {},
   "outputs": [],
   "source": [
    "a[0], a[1]"
   ]
  },
  {
   "cell_type": "code",
   "execution_count": null,
   "metadata": {},
   "outputs": [],
   "source": [
    "a[0] = np.array([3.8, 9.0, 2.3])"
   ]
  },
  {
   "cell_type": "markdown",
   "metadata": {},
   "source": [
    "## Make tensors"
   ]
  },
  {
   "cell_type": "code",
   "execution_count": null,
   "metadata": {},
   "outputs": [],
   "source": [
    "a = Tensor.zeros((2, 3))\n",
    "a"
   ]
  },
  {
   "cell_type": "code",
   "execution_count": null,
   "metadata": {},
   "outputs": [],
   "source": [
    "b = Tensor.ones((4, 2))\n",
    "b"
   ]
  },
  {
   "cell_type": "code",
   "execution_count": null,
   "metadata": {},
   "outputs": [],
   "source": [
    "c = Tensor.normal(shape=(5, 4))\n",
    "c"
   ]
  },
  {
   "cell_type": "code",
   "execution_count": null,
   "metadata": {},
   "outputs": [],
   "source": [
    "d = Tensor.eye(6)\n",
    "d"
   ]
  },
  {
   "cell_type": "code",
   "execution_count": null,
   "metadata": {},
   "outputs": [],
   "source": [
    "e = Tensor.normal(shape=(4, 5))\n",
    "print(e)\n",
    "f = e.numpy()\n",
    "print(f)"
   ]
  },
  {
   "cell_type": "code",
   "execution_count": null,
   "metadata": {},
   "outputs": [],
   "source": []
  }
 ],
 "metadata": {
  "kernelspec": {
   "display_name": "madgrad",
   "language": "python",
   "name": "python3"
  },
  "language_info": {
   "codemirror_mode": {
    "name": "ipython",
    "version": 3
   },
   "file_extension": ".py",
   "mimetype": "text/x-python",
   "name": "python",
   "nbconvert_exporter": "python",
   "pygments_lexer": "ipython3",
   "version": "3.9.13"
  }
 },
 "nbformat": 4,
 "nbformat_minor": 2
}
