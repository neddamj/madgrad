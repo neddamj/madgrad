{
 "cells": [
  {
   "cell_type": "code",
   "execution_count": 11,
   "metadata": {},
   "outputs": [],
   "source": [
    "import numpy as np\n",
    "import torch"
   ]
  },
  {
   "cell_type": "code",
   "execution_count": 12,
   "metadata": {},
   "outputs": [],
   "source": [
    "import numpy as np\n",
    "\n",
    "class Tensor:\n",
    "    def __init__(self, data, _children=()):\n",
    "        self.data = data if isinstance(data, np.ndarray) else np.array(data)\n",
    "        self.grad = np.zeros_like(self.data)\n",
    "        # Set data to floats to division can be done\n",
    "        self.data = self.data.astype(np.float32) \n",
    "        self.grad = self.grad.astype(np.float32)\n",
    "        self._prev = set(_children)\n",
    "        self.shape = self.data.shape\n",
    "        self.size = self.data.size\n",
    "        self.dtype = self.data.dtype\n",
    "        self._backward = lambda: None\n",
    "    \n",
    "    def __add__(self, other):\n",
    "        other = other if isinstance(other, Tensor) else Tensor(other)\n",
    "        out = Tensor(self.data + other.data, (self, other))\n",
    "\n",
    "        def _backward():\n",
    "            self.grad += out.grad\n",
    "            other.grad += out.grad\n",
    "        out._backward = _backward\n",
    "\n",
    "        return out\n",
    "    \n",
    "    def __sub__(self, other):    \n",
    "        other = other if isinstance(other, Tensor) else Tensor(other)\n",
    "        out = Tensor(self.data - other.data, (self, other))\n",
    "\n",
    "        def _backward():\n",
    "            self.grad += out.grad\n",
    "            other.grad -= out.grad\n",
    "        out._backward = _backward\n",
    "\n",
    "        return out\n",
    "\n",
    "    def __mul__(self, other):\n",
    "        other = other if isinstance(other, Tensor) else Tensor(other)\n",
    "        out = Tensor(self.data * other.data, (self, other))\n",
    "\n",
    "        def _backward():\n",
    "            self.grad += other.data * out.grad\n",
    "            other.grad += self.data * out.grad\n",
    "        out._backward = _backward\n",
    "\n",
    "        return out\n",
    "    \n",
    "    def __pow__(self, other):\n",
    "        assert isinstance(other, (int, float)), \"Exponent must be a scalar (int/float)\"\n",
    "        out = Tensor(self.data ** other, (self,))\n",
    "\n",
    "        def _backward():\n",
    "            self.grad += (other * self.data ** (other -1)) * out.grad\n",
    "        out._backward = _backward\n",
    "\n",
    "        return out\n",
    "    \n",
    "    def __matmul__(self, other):\n",
    "        other = other if isinstance(other, Tensor) else Tensor(other)\n",
    "        out = Tensor(self.data @ other.data, (self, other))\n",
    "\n",
    "        def _backward():\n",
    "            self.grad += out.grad @ np.transpose(other.data)\n",
    "            other.grad += np.transpose(self.data) @ out.grad\n",
    "        out._backward = _backward\n",
    "\n",
    "        return out\n",
    "    \n",
    "    def relu(self):\n",
    "        out = self.data * (self.data > 0)\n",
    "        out = Tensor(self.data * (self.data > 0), (self,))\n",
    "\n",
    "        def _backward():\n",
    "            self.grad += (self.data > 0) * out.grad\n",
    "        out._backward = _backward\n",
    "\n",
    "        return out\n",
    "    \n",
    "    def transpose(self,):\n",
    "        out = Tensor(np.transpose(self.data), (self,))\n",
    "        \n",
    "        def _backward():\n",
    "            self.grad += np.transpose(out.grad)\n",
    "        out._backward = _backward\n",
    "        \n",
    "        return out\n",
    "    \n",
    "    def log(self):\n",
    "        print(self.data)\n",
    "        val = Tensor(np.log(self.data) + 1e-9, (self,))\n",
    "        print(val)\n",
    "        out = val\n",
    "\n",
    "        def _backward():\n",
    "            self.grad += (1/self.data) * out.grad\n",
    "        out._backward = _backward\n",
    "\n",
    "        return out\n",
    "    \n",
    "    def exp(self):\n",
    "        out = Tensor(np.exp(self.data), (self,))\n",
    "        \n",
    "        def _backward():\n",
    "            self.grad += np.exp(self.data) * out.grad\n",
    "        out._backward = _backward\n",
    "\n",
    "        return out\n",
    "    \n",
    "    def sigmoid(self):\n",
    "        value = 1/(1 + np.exp(-self.data))\n",
    "        out = Tensor(value, (self,))\n",
    "        \n",
    "        def _backward():\n",
    "            exp = np.exp(-self.data)\n",
    "            g = exp/((1+exp)**2)\n",
    "            self.grad += g * out.grad\n",
    "        out._backward = _backward\n",
    "\n",
    "        return out\n",
    "    \n",
    "    def tanh(self):\n",
    "        val = (np.exp(self.data) - np.exp(-self.data))/(np.exp(self.data) + np.exp(-self.data))\n",
    "        out = Tensor(val, (self,))\n",
    "\n",
    "        def _backward():\n",
    "            self.grad += (1 - val**2) * out.grad\n",
    "        out._backward = _backward\n",
    "\n",
    "        return out\n",
    "    \n",
    "    def softmax(self, dim=1):\n",
    "        exps = np.exp(self.data - np.max(self.data, axis=dim, keepdims=True))\n",
    "        probs = exps / np.sum(exps, axis=dim, keepdims=True)\n",
    "        out = Tensor(probs, (self,))\n",
    "\n",
    "        def _backward():\n",
    "            for i, (output, grad) in enumerate(zip(out.data, out.grad)):\n",
    "                output = output.reshape(-1, 1)\n",
    "                jacobian = np.diagflat(output) - output @ np.transpose(output)\n",
    "                g = np.transpose(jacobian @ np.transpose(grad))\n",
    "                self.grad[i] += g\n",
    "        out._backward = _backward\n",
    "\n",
    "        return out\n",
    "    \n",
    "    def reshape(self, *new_shape):\n",
    "        old_shape = self.shape\n",
    "        out = Tensor(self.data.reshape(*new_shape), (self,))\n",
    "\n",
    "        def _backward():\n",
    "            self.grad += out.grad.reshape(old_shape)\n",
    "        out._backward = _backward\n",
    "\n",
    "        return out\n",
    "    \n",
    "    def sum(self):\n",
    "        out = Tensor(self.data.sum(), (self,))\n",
    "\n",
    "        def _backward():\n",
    "            self.grad += np.ones_like(self.data) * out.grad\n",
    "        out._backward = _backward\n",
    "\n",
    "        return out\n",
    "        \n",
    "    def backward(self):\n",
    "        # https://github.com/karpathy/micrograd/blob/master/micrograd/engine.py\n",
    "        # topological order all of the children in the graph\n",
    "        \n",
    "        topo = []\n",
    "        visited = set()\n",
    "        def build_topo(v):\n",
    "            if v not in visited:\n",
    "                visited.add(v)\n",
    "                for child in v._prev:\n",
    "                    build_topo(child)\n",
    "                topo.append(v)\n",
    "        build_topo(self)\n",
    "\n",
    "        # go one variable at a time and apply the chain rule to get its gradient\n",
    "        self.grad = np.ones_like(self.data)\n",
    "        for v in reversed(topo):\n",
    "            v._backward() \n",
    "    \n",
    "    def max(self):\n",
    "        return np.max(self.data)\n",
    "    \n",
    "    def min(self):\n",
    "        return np.min(self.data)\n",
    "    \n",
    "    def numpy(self):\n",
    "        return np.array(self.data)\n",
    "        \n",
    "    @classmethod\n",
    "    def zeros(cls, shape):\n",
    "        assert isinstance(shape, int) or isinstance(shape, tuple), f'shape should be int or tuple insted of {type(shape)}'\n",
    "        return cls(np.zeros(shape))\n",
    "\n",
    "    @classmethod\n",
    "    def ones(cls, shape):\n",
    "        assert isinstance(shape, int) or isinstance(shape, tuple), f'shape should be int or tuple insted of {type(shape)}'\n",
    "        return cls(np.ones(shape))\n",
    "    \n",
    "    @classmethod\n",
    "    def normal(cls, mean=0.0, std=1.0, shape=None):\n",
    "        assert isinstance(shape, int) or isinstance(shape, tuple), f'shape should be int or tuple insted of {type(shape)}'\n",
    "        return cls(np.random.normal(mean, std, shape))\n",
    "    \n",
    "    @classmethod\n",
    "    def randn(cls, *args):\n",
    "        return cls(np.random.randn(*args))\n",
    "    \n",
    "    @classmethod\n",
    "    def eye(cls, N, M=None):\n",
    "        return cls(np.eye(N, M))\n",
    "\n",
    "    def __neg__(self):\n",
    "        return self * -1\n",
    "    \n",
    "    def __radd__(self, other):\n",
    "        return self + other\n",
    "    \n",
    "    def __rsub__(self, other):\n",
    "        return other - self\n",
    "    \n",
    "    def __rmul__(self, other):\n",
    "        return self * other\n",
    "    \n",
    "    def __truediv__(self, other):\n",
    "        return self * other**-1\n",
    "    \n",
    "    def __rtruediv__(self, other):\n",
    "        return other * self**-1\n",
    "    \n",
    "    def __repr__(self):\n",
    "        return f'Tensor(data={self.data}, dtype={self.data.dtype})'\n",
    "    \n",
    "    def __len__(self):\n",
    "        return len(self.data)\n",
    "    \n",
    "    def __iter__(self):\n",
    "        # Track the current element in the iterable\n",
    "        self.current = 0\n",
    "        return self\n",
    "    \n",
    "    def __next__(self):\n",
    "        if self.current >= len(self.data):\n",
    "            raise StopIteration\n",
    "        current = self.data[self.current]\n",
    "        self.current += 1\n",
    "        return current\n",
    "    \n",
    "    def __getitem__(self, key):\n",
    "        return self.data[key]\n",
    "    \n",
    "    def __setitem__(self, key, value):\n",
    "        self.data[key] = value"
   ]
  },
  {
   "cell_type": "code",
   "execution_count": null,
   "metadata": {},
   "outputs": [],
   "source": []
  },
  {
   "cell_type": "markdown",
   "metadata": {},
   "source": [
    "## Test Basic Ops"
   ]
  },
  {
   "cell_type": "code",
   "execution_count": 13,
   "metadata": {},
   "outputs": [
    {
     "name": "stdout",
     "output_type": "stream",
     "text": [
      "Tensor(data=[5. 7. 9.], dtype=float32)\n",
      "Tensor(data=[1.         0.42857146 0.3       ], dtype=float32)\n"
     ]
    }
   ],
   "source": [
    "a = Tensor([1, 2, 3])\n",
    "b = Tensor([4, 5, 6])\n",
    "c = a + b\n",
    "print(c)\n",
    "d = Tensor([5, 3.0, 2.7])\n",
    "e = d/c\n",
    "print(e)"
   ]
  },
  {
   "cell_type": "code",
   "execution_count": 14,
   "metadata": {},
   "outputs": [
    {
     "name": "stdout",
     "output_type": "stream",
     "text": [
      "Tensor(data=[32.    8.   15.75], dtype=float32)\n"
     ]
    }
   ],
   "source": [
    "a = Tensor([16.0, 2.0, 4.5])\n",
    "b = Tensor([2.0, 4.0, 3.5])\n",
    "c = a * b\n",
    "print(c)"
   ]
  },
  {
   "cell_type": "code",
   "execution_count": 15,
   "metadata": {},
   "outputs": [
    {
     "name": "stdout",
     "output_type": "stream",
     "text": [
      "Tensor(data=[[  8.        64.       125.      ]\n",
      " [  1.       166.375     13.824001]], dtype=float32)\n"
     ]
    }
   ],
   "source": [
    "a = Tensor([[2.0, 4.0, 5.0], \n",
    "           [1.0, 5.5, 2.4]])\n",
    "b = 3.0\n",
    "c = a ** b\n",
    "print(c)"
   ]
  },
  {
   "cell_type": "code",
   "execution_count": 16,
   "metadata": {},
   "outputs": [
    {
     "data": {
      "text/plain": [
       "Tensor(data=[[-0.   4.   5. ]\n",
       " [ 1.  -0.   2.4]], dtype=float32)"
      ]
     },
     "execution_count": 16,
     "metadata": {},
     "output_type": "execute_result"
    }
   ],
   "source": [
    "a = Tensor([[-2.0, 4.0, 5.0], \n",
    "           [1.0, -5.5, 2.4]])\n",
    "a.relu()"
   ]
  },
  {
   "cell_type": "code",
   "execution_count": 17,
   "metadata": {},
   "outputs": [
    {
     "name": "stdout",
     "output_type": "stream",
     "text": [
      "Tensor(data=7.5, dtype=float32)\n"
     ]
    }
   ],
   "source": [
    "a = Tensor([2.5])\n",
    "b = Tensor([3.0])\n",
    "c = a @ b\n",
    "print(c)"
   ]
  },
  {
   "cell_type": "code",
   "execution_count": 18,
   "metadata": {},
   "outputs": [
    {
     "name": "stdout",
     "output_type": "stream",
     "text": [
      "(2, 3) (3, 2) (2, 2)\n"
     ]
    }
   ],
   "source": [
    "a = Tensor([[-2.0, 4.0, 5.0], \n",
    "           [1.0, -5.5, 2.4]])\n",
    "b = Tensor([[-2.0, 4.0], \n",
    "           [1.0, 2.4],\n",
    "           [1.4, 9.0]])\n",
    "c = a @ b\n",
    "print(a.shape, b.shape, c.shape)"
   ]
  },
  {
   "cell_type": "code",
   "execution_count": 19,
   "metadata": {},
   "outputs": [
    {
     "name": "stdout",
     "output_type": "stream",
     "text": [
      "[[2.  4.  5. ]\n",
      " [1.  5.5 2.4]]\n",
      "Tensor(data=[[6.9314718e-01 1.3862944e+00 1.6094379e+00]\n",
      " [9.9999997e-10 1.7047480e+00 8.7546879e-01]], dtype=float32)\n"
     ]
    },
    {
     "data": {
      "text/plain": [
       "Tensor(data=[[6.9314718e-01 1.3862944e+00 1.6094379e+00]\n",
       " [9.9999997e-10 1.7047480e+00 8.7546879e-01]], dtype=float32)"
      ]
     },
     "execution_count": 19,
     "metadata": {},
     "output_type": "execute_result"
    }
   ],
   "source": [
    "a = Tensor([[2.0, 4.0, 5.0], \n",
    "           [1.0, 5.5, 2.4]])\n",
    "a.log()"
   ]
  },
  {
   "cell_type": "code",
   "execution_count": 20,
   "metadata": {},
   "outputs": [
    {
     "name": "stdout",
     "output_type": "stream",
     "text": [
      "[[1.3533528e-01 5.4598148e+01 1.4841316e+02]\n",
      " [2.7182817e+00 4.0867715e-03 1.1023177e+01]]\n",
      "Tensor(data=[[1.3533528e-01 5.4598148e+01 1.4841316e+02]\n",
      " [2.7182817e+00 4.0867715e-03 1.1023177e+01]], dtype=float32)\n"
     ]
    }
   ],
   "source": [
    "a = Tensor([[-2.0, 4.0, 5.0], \n",
    "           [1.0, -5.5, 2.4]])\n",
    "print(np.exp(a.data))\n",
    "print(a.exp())"
   ]
  },
  {
   "cell_type": "code",
   "execution_count": 21,
   "metadata": {},
   "outputs": [],
   "source": [
    "grads = Tensor.normal(shape=(2, 2))\n",
    "data = Tensor.normal(shape=(2, 2))"
   ]
  },
  {
   "cell_type": "code",
   "execution_count": 22,
   "metadata": {},
   "outputs": [],
   "source": [
    "data = data.reshape(-1, 1)"
   ]
  },
  {
   "cell_type": "code",
   "execution_count": 23,
   "metadata": {},
   "outputs": [
    {
     "data": {
      "text/plain": [
       "array([[ 0.19950941,  0.31803176, -0.17093538,  0.10663676],\n",
       "       [ 0.31803176, -2.4897647 ,  0.7172879 , -0.4474747 ],\n",
       "       [-0.17093538,  0.7172879 ,  0.23538119,  0.24050823],\n",
       "       [ 0.10663676, -0.4474747 ,  0.24050823, -0.53738827]],\n",
       "      dtype=float32)"
      ]
     },
     "execution_count": 23,
     "metadata": {},
     "output_type": "execute_result"
    }
   ],
   "source": [
    "jacobian = np.diagflat(data) - data @ data.transpose()\n",
    "jacobian"
   ]
  },
  {
   "cell_type": "code",
   "execution_count": 24,
   "metadata": {},
   "outputs": [
    {
     "data": {
      "text/plain": [
       "tensor([[4.7426e-02, 9.9993e-01, 9.3086e-01],\n",
       "        [9.5257e-01, 7.4846e-05, 6.9138e-02]])"
      ]
     },
     "execution_count": 24,
     "metadata": {},
     "output_type": "execute_result"
    }
   ],
   "source": [
    "a_t = torch.tensor(a.numpy())\n",
    "a_t.softmax(dim=0)"
   ]
  },
  {
   "cell_type": "markdown",
   "metadata": {},
   "source": [
    "## Test Autodiff"
   ]
  },
  {
   "cell_type": "code",
   "execution_count": 25,
   "metadata": {},
   "outputs": [
    {
     "name": "stdout",
     "output_type": "stream",
     "text": [
      "[[0.5303644  0.46963564]\n",
      " [0.4669386  0.5330614 ]]\n",
      "Tensor(data=[[-0.634191   -0.7557981 ]\n",
      " [-0.76155746 -0.6291187 ]], dtype=float32)\n",
      "[[-3.6854024 -9.742768 ]\n",
      " [-2.7815564 -8.889711 ]]\n",
      "[[-1.5087178e-05  1.5144639e+00]\n",
      " [-7.9981709e+00  3.1944327e+00]]\n",
      "[[ -6.7917013   6.791701 ]\n",
      " [-21.621813   21.621813 ]]\n",
      "[[ -6.5000005   7.05     ]\n",
      " [-20.800001   22.560001 ]]\n",
      "[[1.2       3.1      ]\n",
      " [3.8400002 9.92     ]]\n",
      "[[1. ]\n",
      " [3.2]]\n"
     ]
    }
   ],
   "source": [
    "x1 = Tensor([[-8.0, 2.0], [1.0, 1.5]])\n",
    "w1 = Tensor([[3.2, 1.2], [1.0, 1.5]])\n",
    "x1 = x1.transpose()\n",
    "c1 = x1.sigmoid()\n",
    "d1 = w1.tanh()\n",
    "z1 = d1 * c1 - c1\n",
    "z1i = z1.softmax(dim=1)\n",
    "q1 = z1i.relu().log()\n",
    "y1 = q1 @ x1\n",
    "s1 = y1 @ Tensor([[1.2], [3.1]])\n",
    "t1 = Tensor([[1.0, 3.2]]) @ s1\n",
    "t1.backward()\n",
    "\n",
    "print(x1.grad)\n",
    "print(w1.grad)\n",
    "print(z1.grad)\n",
    "print(q1.grad)\n",
    "print(y1.grad)\n",
    "print(s1.grad)"
   ]
  },
  {
   "cell_type": "code",
   "execution_count": 26,
   "metadata": {},
   "outputs": [
    {
     "name": "stdout",
     "output_type": "stream",
     "text": [
      "tensor([[-3.6854, -9.7428],\n",
      "        [-2.7816, -8.8897]])\n",
      "tensor([[-1.5087e-05,  1.5145e+00],\n",
      "        [-7.9982e+00,  3.1944e+00]])\n",
      "tensor([[ -6.7917,   6.7917],\n",
      "        [-21.6218,  21.6218]])\n",
      "tensor([[ -6.5000,   7.0500],\n",
      "        [-20.8000,  22.5600]])\n",
      "tensor([[1.2000, 3.1000],\n",
      "        [3.8400, 9.9200]])\n",
      "tensor([[1.0000],\n",
      "        [3.2000]])\n"
     ]
    }
   ],
   "source": [
    "x = torch.Tensor([[-8.0, 2.0], [1.0, 1.5]]); x.requires_grad = True\n",
    "w = torch.Tensor([[3.2, 1.2], [1.0, 1.5]]); w.requires_grad = True\n",
    "x = x.transpose(0,1) ; x.retain_grad()\n",
    "c = x.sigmoid() ; c.retain_grad()\n",
    "d = w.tanh(); c.retain_grad()\n",
    "z = d * c - c; z.retain_grad()\n",
    "zi = z.softmax(dim=1); zi.retain_grad()\n",
    "q = zi.relu().log(); q.retain_grad()\n",
    "y = q @ x; y.retain_grad()\n",
    "s = y @ torch.Tensor([[1.2], [3.1]]); s.retain_grad()\n",
    "t = torch.Tensor([[1.0, 3.2]]) @ s\n",
    "t.backward()\n",
    "\n",
    "print(x.grad)\n",
    "print(w.grad)\n",
    "print(z.grad)\n",
    "print(q.grad)\n",
    "print(y.grad)\n",
    "print(s.grad)"
   ]
  },
  {
   "cell_type": "code",
   "execution_count": 27,
   "metadata": {},
   "outputs": [
    {
     "data": {
      "text/plain": [
       "tensor([[-8.0000,  1.0000],\n",
       "        [ 2.0000,  1.5000]], grad_fn=<TransposeBackward0>)"
      ]
     },
     "execution_count": 27,
     "metadata": {},
     "output_type": "execute_result"
    }
   ],
   "source": [
    "x"
   ]
  },
  {
   "cell_type": "code",
   "execution_count": 28,
   "metadata": {},
   "outputs": [
    {
     "data": {
      "text/plain": [
       "tensor([[-8.0000,  2.0000],\n",
       "        [ 1.0000,  1.5000]], grad_fn=<TransposeBackward0>)"
      ]
     },
     "execution_count": 28,
     "metadata": {},
     "output_type": "execute_result"
    }
   ],
   "source": [
    "x.transpose(0,1)"
   ]
  },
  {
   "cell_type": "markdown",
   "metadata": {},
   "source": [
    "## Test Iterable"
   ]
  },
  {
   "cell_type": "code",
   "execution_count": 29,
   "metadata": {},
   "outputs": [
    {
     "name": "stdout",
     "output_type": "stream",
     "text": [
      "[-2.  4.  5.]\n",
      "[ 1.  -5.5  2.4]\n"
     ]
    }
   ],
   "source": [
    "a = Tensor([[-2.0, 4.0, 5.0], \n",
    "           [1.0, -5.5, 2.4]])\n",
    "for array in a:\n",
    "    print(array)"
   ]
  },
  {
   "cell_type": "code",
   "execution_count": 30,
   "metadata": {},
   "outputs": [
    {
     "data": {
      "text/plain": [
       "(array([-2.,  4.,  5.], dtype=float32),\n",
       " array([ 1. , -5.5,  2.4], dtype=float32))"
      ]
     },
     "execution_count": 30,
     "metadata": {},
     "output_type": "execute_result"
    }
   ],
   "source": [
    "a[0], a[1]"
   ]
  },
  {
   "cell_type": "code",
   "execution_count": 31,
   "metadata": {},
   "outputs": [],
   "source": [
    "a[0] = np.array([3.8, 9.0, 2.3])"
   ]
  },
  {
   "cell_type": "markdown",
   "metadata": {},
   "source": [
    "## Make tensors"
   ]
  },
  {
   "cell_type": "code",
   "execution_count": 32,
   "metadata": {},
   "outputs": [
    {
     "data": {
      "text/plain": [
       "Tensor(data=[[0. 0. 0.]\n",
       " [0. 0. 0.]], dtype=float32)"
      ]
     },
     "execution_count": 32,
     "metadata": {},
     "output_type": "execute_result"
    }
   ],
   "source": [
    "a = Tensor.zeros((2, 3))\n",
    "a"
   ]
  },
  {
   "cell_type": "code",
   "execution_count": 33,
   "metadata": {},
   "outputs": [
    {
     "data": {
      "text/plain": [
       "Tensor(data=[[1. 1.]\n",
       " [1. 1.]\n",
       " [1. 1.]\n",
       " [1. 1.]], dtype=float32)"
      ]
     },
     "execution_count": 33,
     "metadata": {},
     "output_type": "execute_result"
    }
   ],
   "source": [
    "b = Tensor.ones((4, 2))\n",
    "b"
   ]
  },
  {
   "cell_type": "code",
   "execution_count": 34,
   "metadata": {},
   "outputs": [
    {
     "data": {
      "text/plain": [
       "Tensor(data=[[ 2.2703073  -0.87986165  0.8481479  -0.62249815]\n",
       " [ 0.01475679 -0.6145898   0.28788444 -0.10494109]\n",
       " [-1.1931285   0.6689222   0.17278725 -0.4485536 ]\n",
       " [-0.06168244 -1.334231   -0.56350183  0.6163185 ]\n",
       " [-0.9226992  -1.2011671  -1.6699742  -0.5620623 ]], dtype=float32)"
      ]
     },
     "execution_count": 34,
     "metadata": {},
     "output_type": "execute_result"
    }
   ],
   "source": [
    "c = Tensor.normal(shape=(5, 4))\n",
    "c"
   ]
  },
  {
   "cell_type": "code",
   "execution_count": 35,
   "metadata": {},
   "outputs": [
    {
     "data": {
      "text/plain": [
       "Tensor(data=[[1. 0. 0. 0. 0. 0.]\n",
       " [0. 1. 0. 0. 0. 0.]\n",
       " [0. 0. 1. 0. 0. 0.]\n",
       " [0. 0. 0. 1. 0. 0.]\n",
       " [0. 0. 0. 0. 1. 0.]\n",
       " [0. 0. 0. 0. 0. 1.]], dtype=float32)"
      ]
     },
     "execution_count": 35,
     "metadata": {},
     "output_type": "execute_result"
    }
   ],
   "source": [
    "d = Tensor.eye(6)\n",
    "d"
   ]
  },
  {
   "cell_type": "code",
   "execution_count": 36,
   "metadata": {},
   "outputs": [
    {
     "name": "stdout",
     "output_type": "stream",
     "text": [
      "Tensor(data=[[-6.1813986e-01 -2.7583241e-01  1.5022295e+00 -1.8896624e-03\n",
      "  -7.9983167e-02]\n",
      " [ 2.1573989e+00 -2.7955315e-01  1.5221264e+00 -2.6515085e-01\n",
      "  -3.8024883e-03]\n",
      " [ 7.4349099e-01  5.0601006e-01 -3.0673323e-02  1.1141809e+00\n",
      "   5.1435101e-01]\n",
      " [ 1.0036160e-01 -6.8598026e-01  1.7330390e+00 -8.7002379e-01\n",
      "   7.1909678e-01]], dtype=float32)\n",
      "[[-6.1813986e-01 -2.7583241e-01  1.5022295e+00 -1.8896624e-03\n",
      "  -7.9983167e-02]\n",
      " [ 2.1573989e+00 -2.7955315e-01  1.5221264e+00 -2.6515085e-01\n",
      "  -3.8024883e-03]\n",
      " [ 7.4349099e-01  5.0601006e-01 -3.0673323e-02  1.1141809e+00\n",
      "   5.1435101e-01]\n",
      " [ 1.0036160e-01 -6.8598026e-01  1.7330390e+00 -8.7002379e-01\n",
      "   7.1909678e-01]]\n"
     ]
    }
   ],
   "source": [
    "e = Tensor.normal(shape=(4, 5))\n",
    "print(e)\n",
    "f = e.numpy()\n",
    "print(f)"
   ]
  },
  {
   "cell_type": "code",
   "execution_count": 37,
   "metadata": {},
   "outputs": [
    {
     "data": {
      "text/plain": [
       "Tensor(data=[[-1.4515268   0.18671152  0.23241463]\n",
       " [-0.4515628   1.1693501   0.00795554]], dtype=float32)"
      ]
     },
     "execution_count": 37,
     "metadata": {},
     "output_type": "execute_result"
    }
   ],
   "source": [
    "g = Tensor.randn(2, 3)\n",
    "g"
   ]
  },
  {
   "cell_type": "code",
   "execution_count": null,
   "metadata": {},
   "outputs": [],
   "source": []
  }
 ],
 "metadata": {
  "kernelspec": {
   "display_name": "madgrad",
   "language": "python",
   "name": "python3"
  },
  "language_info": {
   "codemirror_mode": {
    "name": "ipython",
    "version": 3
   },
   "file_extension": ".py",
   "mimetype": "text/x-python",
   "name": "python",
   "nbconvert_exporter": "python",
   "pygments_lexer": "ipython3",
   "version": "3.9.13"
  }
 },
 "nbformat": 4,
 "nbformat_minor": 2
}
