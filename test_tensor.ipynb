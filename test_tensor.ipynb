{
 "cells": [
  {
   "cell_type": "code",
   "execution_count": 21,
   "metadata": {},
   "outputs": [],
   "source": [
    "import numpy as np"
   ]
  },
  {
   "cell_type": "markdown",
   "metadata": {},
   "source": [
    "### To Be Added\n",
    "\n",
    "1. softmax forward and backward\n",
    "2. convert tensor to numpy array\n"
   ]
  },
  {
   "cell_type": "code",
   "execution_count": 61,
   "metadata": {},
   "outputs": [],
   "source": [
    "class Tensor:\n",
    "    def __init__(self, data, _children=()):\n",
    "        self.data = data if isinstance(data, np.ndarray) else np.array(data)\n",
    "        # Set data to floats to division can be done\n",
    "        self.data = self.data.astype(float) \n",
    "        self._prev = set(_children)\n",
    "        self.grad = np.zeros_like(self.data)\n",
    "        self.shape = self.data.shape\n",
    "        self.size = self.data.size\n",
    "        self._backward = lambda: None\n",
    "    \n",
    "    def __add__(self, other):\n",
    "        # Elementwise addition. Tensors must be the same size, or one of \n",
    "        # them must be a scalar \n",
    "        other = other if isinstance(other, Tensor) else Tensor(other)\n",
    "        out = Tensor(self.data + other.data, (self, other))\n",
    "\n",
    "        def _backward():\n",
    "            self.grad += out.grad\n",
    "            other.grad += out.grad\n",
    "        out._backward = _backward\n",
    "\n",
    "        return out\n",
    "    \n",
    "    def __sub__(self, other):    \n",
    "        other = other if isinstance(other, Tensor) else Tensor(other)\n",
    "        out = Tensor(self.data - other.data, (self, other))\n",
    "\n",
    "        def _backward():\n",
    "            self.grad += out.grad\n",
    "            other.grad -= out.grad\n",
    "        out._backward = _backward\n",
    "\n",
    "        return out\n",
    "\n",
    "    def __mul__(self, other):\n",
    "        # Elementwise multiplication. Tensors must be the same size, or one of \n",
    "        # them must be a scalar \n",
    "        other = other if isinstance(other, Tensor) else Tensor(other)\n",
    "        out = Tensor(self.data * other.data, (self, other))\n",
    "\n",
    "        def _backward():\n",
    "            self.grad += other.data * out.grad\n",
    "            other.grad += self.data * out.grad\n",
    "        out._backward = _backward\n",
    "\n",
    "        return out\n",
    "    \n",
    "    def __pow__(self, other):\n",
    "        # The exponent must be a scalar\n",
    "        assert isinstance(other, (int, float)), \"Exponent must be a scalar (int/float)\"\n",
    "        out = Tensor(self.data ** other, (self, other))\n",
    "\n",
    "        def _backward():\n",
    "            self.grad += (other * self.data ** (other -1)) * out.grad\n",
    "        out._backward = _backward\n",
    "\n",
    "        return out\n",
    "    \n",
    "    def __matmul__(self, other):\n",
    "        # Rows of self must match columns of other\n",
    "        other = other if isinstance(other, Tensor) else Tensor(other)\n",
    "        out = Tensor(self.data @ other.data, (self, other))\n",
    "\n",
    "        def _backward():\n",
    "            self.grad += out.grad @ np.transpose(other.data)\n",
    "            other.grad += np.transpose(out.grad @ self.data)\n",
    "        out._backward = _backward\n",
    "\n",
    "        return out\n",
    "    \n",
    "    def relu(self):\n",
    "        out = self.data * (self.data > 0)\n",
    "        out = Tensor(self.data * (self.data > 0), (self,))\n",
    "\n",
    "        def _backward():\n",
    "            self.grad += (self.data > 0) * out.grad\n",
    "        out._backward = _backward\n",
    "\n",
    "        return out\n",
    "    \n",
    "    def transpose(self):\n",
    "        out = Tensor(np.transpose(self.data), (self,))\n",
    "        \n",
    "        def _backward():\n",
    "            self.grad += np.transpose(out.grad)\n",
    "        out._backward = _backward\n",
    "        \n",
    "        return out\n",
    "    \n",
    "    def log(self):\n",
    "        out = Tensor(np.log(self.data), (self,))\n",
    "\n",
    "        def _backward():\n",
    "            self.grad += (1/self.data) * out.grad\n",
    "        out._backward = _backward\n",
    "\n",
    "        return out\n",
    "    \n",
    "    def exp(self):\n",
    "        out = Tensor(np.exp(self.data), (self,))\n",
    "        \n",
    "        def _backward():\n",
    "            self.grad += np.exp(self.data) * out.grad\n",
    "        out._backward = _backward\n",
    "\n",
    "        return out\n",
    "    \n",
    "    def sigmoid(self):\n",
    "        value = 1/(1 + np.exp(-self.data))\n",
    "        out = Tensor(value, (self,))\n",
    "        \n",
    "        def _backward():\n",
    "            exp = np.exp(-self.data)\n",
    "            g = exp/((1+exp)**2)\n",
    "            self.grad += g * out.grad\n",
    "        out._backward = _backward\n",
    "\n",
    "        return out\n",
    "    \n",
    "    def tanh(self):\n",
    "        val = (np.exp(self.data) - np.exp(-self.data))/(np.exp(self.data) + np.exp(-self.data))\n",
    "        out = Tensor(val, (self,))\n",
    "\n",
    "        def _backward():\n",
    "            self.grad += (1 - val**2) * out.grad\n",
    "        out._backward = _backward\n",
    "\n",
    "        return out\n",
    "    \n",
    "    def reshape(self, *new_shape):\n",
    "        old_shape = self.shape\n",
    "        assert self.size == np.prod(new_shape), f'number of elements in {new_shape} must match {self.size}'\n",
    "        out = Tensor(self.data.reshape(*new_shape), (self,))\n",
    "\n",
    "        def _backward():\n",
    "            self.grad += out.grad.reshape(old_shape)\n",
    "        out._backward = _backward\n",
    "\n",
    "        return out\n",
    "    \n",
    "    def backward(self):\n",
    "        # https://github.com/karpathy/micrograd/blob/master/micrograd/engine.py\n",
    "        # topological order all of the children in the graph\n",
    "        \n",
    "        topo = []\n",
    "        visited = set()\n",
    "        def build_topo(v):\n",
    "            if v not in visited:\n",
    "                visited.add(v)\n",
    "                for child in v._prev:\n",
    "                    build_topo(child)\n",
    "                topo.append(v)\n",
    "        build_topo(self)\n",
    "\n",
    "        # go one variable at a time and apply the chain rule to get its gradient\n",
    "        self.grad = np.ones_like(self.data)\n",
    "        for v in reversed(topo):\n",
    "            v._backward() \n",
    "    \n",
    "    def max(self):\n",
    "        return np.max(self.data)\n",
    "    \n",
    "    def min(self):\n",
    "        return np.min(self.data)\n",
    "    \n",
    "    def numpy(self):\n",
    "        return np.array(self.data)\n",
    "        \n",
    "    @classmethod\n",
    "    def zeros(cls, shape):\n",
    "        assert isinstance(shape, int) or isinstance(shape, tuple), f'shape should be int or tuple insted of {type(shape)}'\n",
    "        return cls(np.zeros(shape))\n",
    "\n",
    "    @classmethod\n",
    "    def ones(cls, shape):\n",
    "        assert isinstance(shape, int) or isinstance(shape, tuple), f'shape should be int or tuple insted of {type(shape)}'\n",
    "        return cls(np.ones(shape))\n",
    "    \n",
    "    @classmethod\n",
    "    def normal(cls, mean=0.0, std=1.0, shape=None):\n",
    "        assert isinstance(shape, int) or isinstance(shape, tuple), f'shape should be int or tuple insted of {type(shape)}'\n",
    "        return cls(np.random.normal(mean, std, shape))\n",
    "    \n",
    "    @classmethod\n",
    "    def eye(cls, N, M=None):\n",
    "        return cls(np.eye(N, M))\n",
    "\n",
    "    def __neg__(self):\n",
    "        return self * -1\n",
    "    \n",
    "    def __radd__(self, other):\n",
    "        return self + other\n",
    "    \n",
    "    def __rsub__(self, other):\n",
    "        return other - self\n",
    "    \n",
    "    def __rmul__(self, other):\n",
    "        return self * other\n",
    "    \n",
    "    def __truediv__(self, other):\n",
    "        return self * other**-1\n",
    "    \n",
    "    def __rtruediv__(self, other):\n",
    "        return other * self**-1\n",
    "    \n",
    "    def __repr__(self):\n",
    "        return f'Tensor(data={self.data})'\n",
    "    \n",
    "    def __len__(self):\n",
    "        return len(self.data)\n",
    "    \n",
    "    def __iter__(self):\n",
    "        # Track the current element in the iterable\n",
    "        self.current = 0\n",
    "        return self\n",
    "    \n",
    "    def __next__(self):\n",
    "        if self.current >= len(self.data):\n",
    "            raise StopIteration\n",
    "        current = self.data[self.current]\n",
    "        self.current += 1\n",
    "        return current\n",
    "    \n",
    "    def __getitem__(self, key):\n",
    "        return self.data[key]\n",
    "    \n",
    "    def __setitem__(self, key, value):\n",
    "        self.data[key] = value"
   ]
  },
  {
   "cell_type": "markdown",
   "metadata": {},
   "source": [
    "## Test Basic Ops"
   ]
  },
  {
   "cell_type": "code",
   "execution_count": 62,
   "metadata": {},
   "outputs": [
    {
     "name": "stdout",
     "output_type": "stream",
     "text": [
      "Tensor(data=[5. 7. 9.])\n",
      "Tensor(data=[1.         0.42857143 0.3       ])\n"
     ]
    }
   ],
   "source": [
    "a = Tensor([1, 2, 3])\n",
    "b = Tensor([4, 5, 6])\n",
    "c = a + b\n",
    "print(c)\n",
    "d = Tensor([5, 3.0, 2.7])\n",
    "e = d/c\n",
    "print(e)"
   ]
  },
  {
   "cell_type": "code",
   "execution_count": 63,
   "metadata": {},
   "outputs": [
    {
     "name": "stdout",
     "output_type": "stream",
     "text": [
      "Tensor(data=[32.    8.   15.75])\n"
     ]
    }
   ],
   "source": [
    "a = Tensor([16.0, 2.0, 4.5])\n",
    "b = Tensor([2.0, 4.0, 3.5])\n",
    "c = a * b\n",
    "print(c)"
   ]
  },
  {
   "cell_type": "code",
   "execution_count": 64,
   "metadata": {},
   "outputs": [
    {
     "name": "stdout",
     "output_type": "stream",
     "text": [
      "Tensor(data=[[  8.     64.    125.   ]\n",
      " [  1.    166.375  13.824]])\n"
     ]
    }
   ],
   "source": [
    "a = Tensor([[2.0, 4.0, 5.0], \n",
    "           [1.0, 5.5, 2.4]])\n",
    "b = 3.0\n",
    "c = a ** b\n",
    "print(c)"
   ]
  },
  {
   "cell_type": "code",
   "execution_count": 65,
   "metadata": {},
   "outputs": [
    {
     "data": {
      "text/plain": [
       "Tensor(data=[[-0.   4.   5. ]\n",
       " [ 1.  -0.   2.4]])"
      ]
     },
     "execution_count": 65,
     "metadata": {},
     "output_type": "execute_result"
    }
   ],
   "source": [
    "a = Tensor([[-2.0, 4.0, 5.0], \n",
    "           [1.0, -5.5, 2.4]])\n",
    "a.relu()"
   ]
  },
  {
   "cell_type": "code",
   "execution_count": 66,
   "metadata": {},
   "outputs": [
    {
     "name": "stdout",
     "output_type": "stream",
     "text": [
      "Tensor(data=7.5)\n"
     ]
    }
   ],
   "source": [
    "a = Tensor([2.5])\n",
    "b = Tensor([3.0])\n",
    "c = a @ b\n",
    "print(c)"
   ]
  },
  {
   "cell_type": "code",
   "execution_count": 67,
   "metadata": {},
   "outputs": [
    {
     "name": "stdout",
     "output_type": "stream",
     "text": [
      "(2, 3) (3, 2) (2, 2)\n"
     ]
    }
   ],
   "source": [
    "a = Tensor([[-2.0, 4.0, 5.0], \n",
    "           [1.0, -5.5, 2.4]])\n",
    "b = Tensor([[-2.0, 4.0], \n",
    "           [1.0, 2.4],\n",
    "           [1.4, 9.0]])\n",
    "c = a @ b\n",
    "print(a.shape, b.shape, c.shape)"
   ]
  },
  {
   "cell_type": "code",
   "execution_count": 68,
   "metadata": {},
   "outputs": [
    {
     "data": {
      "text/plain": [
       "Tensor(data=[[0.69314718 1.38629436 1.60943791]\n",
       " [0.         1.70474809 0.87546874]])"
      ]
     },
     "execution_count": 68,
     "metadata": {},
     "output_type": "execute_result"
    }
   ],
   "source": [
    "a = Tensor([[2.0, 4.0, 5.0], \n",
    "           [1.0, 5.5, 2.4]])\n",
    "a.log()"
   ]
  },
  {
   "cell_type": "code",
   "execution_count": 69,
   "metadata": {},
   "outputs": [
    {
     "name": "stdout",
     "output_type": "stream",
     "text": [
      "[[1.35335283e-01 5.45981500e+01 1.48413159e+02]\n",
      " [2.71828183e+00 4.08677144e-03 1.10231764e+01]]\n",
      "Tensor(data=[[1.35335283e-01 5.45981500e+01 1.48413159e+02]\n",
      " [2.71828183e+00 4.08677144e-03 1.10231764e+01]])\n"
     ]
    }
   ],
   "source": [
    "a = Tensor([[-2.0, 4.0, 5.0], \n",
    "           [1.0, -5.5, 2.4]])\n",
    "print(np.exp(a.data))\n",
    "print(a.exp())"
   ]
  },
  {
   "cell_type": "markdown",
   "metadata": {},
   "source": [
    "## Test Autodiff"
   ]
  },
  {
   "cell_type": "code",
   "execution_count": 31,
   "metadata": {},
   "outputs": [
    {
     "name": "stdout",
     "output_type": "stream",
     "text": [
      "[[0.24858757 0.00564972]]\n",
      "[[0.4519774  0.02824859]]\n",
      "[[0.05649718 0.01412429]]\n",
      "[[0.05649718 0.01412429]]\n",
      "[[0.00706215]]\n",
      "[[1.]]\n"
     ]
    }
   ],
   "source": [
    "x1 = Tensor([[8.0, 2.0]])\n",
    "w1 = Tensor([[3.2, 1.2]])\n",
    "x1.sigmoid()\n",
    "w1.tanh()\n",
    "z1 = w1 * x1 - x1\n",
    "q1 = z1.relu()\n",
    "y1 = q1 @ x1.transpose()\n",
    "p1 = y1.log()\n",
    "s1 = p1.exp()\n",
    "p1.backward()\n",
    "\n",
    "print(x1.grad)\n",
    "print(w1.grad)\n",
    "print(z1.grad)\n",
    "print(q1.grad)\n",
    "print(y1.grad)\n",
    "print(p1.grad)"
   ]
  },
  {
   "cell_type": "code",
   "execution_count": 32,
   "metadata": {},
   "outputs": [
    {
     "name": "stdout",
     "output_type": "stream",
     "text": [
      "tensor([[0.2486, 0.0056]])\n",
      "tensor([[0.4520, 0.0282]])\n",
      "tensor([[0.0565, 0.0141]])\n",
      "tensor([[0.0565, 0.0141]])\n",
      "tensor([[0.0071]])\n",
      "tensor([[1.]])\n"
     ]
    }
   ],
   "source": [
    "import torch\n",
    "\n",
    "x = torch.Tensor([[8.0, 2.0]]); x.requires_grad = True\n",
    "w = torch.Tensor([[3.2, 1.2]]); w.requires_grad = True\n",
    "x.sigmoid()\n",
    "w.tanh()\n",
    "z = w * x - x; z.retain_grad()\n",
    "q = z.relu(); q.retain_grad()\n",
    "y = q @ x.transpose(0, 1); y.retain_grad()\n",
    "p = y.log(); p.retain_grad()\n",
    "s = p.exp(); s.retain_grad()\n",
    "p.backward()\n",
    "\n",
    "print(x.grad)\n",
    "print(w.grad)\n",
    "print(z.grad)\n",
    "print(q.grad)\n",
    "print(y.grad)\n",
    "print(p.grad)"
   ]
  },
  {
   "cell_type": "markdown",
   "metadata": {},
   "source": [
    "## Test Iterable"
   ]
  },
  {
   "cell_type": "code",
   "execution_count": 33,
   "metadata": {},
   "outputs": [
    {
     "name": "stdout",
     "output_type": "stream",
     "text": [
      "[-2.  4.  5.]\n",
      "[ 1.  -5.5  2.4]\n"
     ]
    }
   ],
   "source": [
    "a = Tensor([[-2.0, 4.0, 5.0], \n",
    "           [1.0, -5.5, 2.4]])\n",
    "for array in a:\n",
    "    print(array)"
   ]
  },
  {
   "cell_type": "code",
   "execution_count": 34,
   "metadata": {},
   "outputs": [
    {
     "data": {
      "text/plain": [
       "(array([-2.,  4.,  5.]), array([ 1. , -5.5,  2.4]))"
      ]
     },
     "execution_count": 34,
     "metadata": {},
     "output_type": "execute_result"
    }
   ],
   "source": [
    "a[0], a[1]"
   ]
  },
  {
   "cell_type": "code",
   "execution_count": 35,
   "metadata": {},
   "outputs": [],
   "source": [
    "a[0] = np.array([3.8, 9.0, 2.3])"
   ]
  },
  {
   "cell_type": "markdown",
   "metadata": {},
   "source": [
    "## Make tensors"
   ]
  },
  {
   "cell_type": "code",
   "execution_count": 36,
   "metadata": {},
   "outputs": [
    {
     "data": {
      "text/plain": [
       "Tensor(data=[[0. 0. 0.]\n",
       " [0. 0. 0.]])"
      ]
     },
     "execution_count": 36,
     "metadata": {},
     "output_type": "execute_result"
    }
   ],
   "source": [
    "a = Tensor.zeros((2, 3))\n",
    "a"
   ]
  },
  {
   "cell_type": "code",
   "execution_count": 37,
   "metadata": {},
   "outputs": [
    {
     "data": {
      "text/plain": [
       "Tensor(data=[[1. 1.]\n",
       " [1. 1.]\n",
       " [1. 1.]\n",
       " [1. 1.]])"
      ]
     },
     "execution_count": 37,
     "metadata": {},
     "output_type": "execute_result"
    }
   ],
   "source": [
    "b = Tensor.ones((4, 2))\n",
    "b"
   ]
  },
  {
   "cell_type": "code",
   "execution_count": 38,
   "metadata": {},
   "outputs": [
    {
     "data": {
      "text/plain": [
       "Tensor(data=[[ 0.38252778 -0.27411117  1.50116708 -1.04678291]\n",
       " [ 1.72427404 -0.38236591  1.98548705 -0.73419999]\n",
       " [ 1.50051225  0.14430934  1.03109844 -2.02809943]\n",
       " [ 0.29127524  0.00269875  0.97721525  0.9101428 ]\n",
       " [-0.46730239  0.45090472 -0.08714041  0.07924003]])"
      ]
     },
     "execution_count": 38,
     "metadata": {},
     "output_type": "execute_result"
    }
   ],
   "source": [
    "c = Tensor.normal(shape=(5, 4))\n",
    "c"
   ]
  },
  {
   "cell_type": "code",
   "execution_count": 39,
   "metadata": {},
   "outputs": [
    {
     "data": {
      "text/plain": [
       "Tensor(data=[[1. 0. 0. 0. 0. 0.]\n",
       " [0. 1. 0. 0. 0. 0.]\n",
       " [0. 0. 1. 0. 0. 0.]\n",
       " [0. 0. 0. 1. 0. 0.]\n",
       " [0. 0. 0. 0. 1. 0.]\n",
       " [0. 0. 0. 0. 0. 1.]])"
      ]
     },
     "execution_count": 39,
     "metadata": {},
     "output_type": "execute_result"
    }
   ],
   "source": [
    "d = Tensor.eye(6)\n",
    "d"
   ]
  },
  {
   "cell_type": "code",
   "execution_count": 40,
   "metadata": {},
   "outputs": [
    {
     "name": "stdout",
     "output_type": "stream",
     "text": [
      "Tensor(data=[[-2.29175332 -1.62432208 -1.94227389 -0.04600475  0.03931947]\n",
      " [-0.62092735 -1.68806266  0.14150988 -0.19513705 -0.18440252]\n",
      " [-1.09380258 -0.27197402 -0.02712507  1.29861898 -0.35948258]\n",
      " [-1.7850084   0.2943795  -0.76582953  0.27154558 -0.01450988]])\n",
      "[[-2.29175332 -1.62432208 -1.94227389 -0.04600475  0.03931947]\n",
      " [-0.62092735 -1.68806266  0.14150988 -0.19513705 -0.18440252]\n",
      " [-1.09380258 -0.27197402 -0.02712507  1.29861898 -0.35948258]\n",
      " [-1.7850084   0.2943795  -0.76582953  0.27154558 -0.01450988]]\n"
     ]
    }
   ],
   "source": [
    "e = Tensor.normal(shape=(4, 5))\n",
    "print(e)\n",
    "f = e.numpy()\n",
    "print(f)"
   ]
  },
  {
   "cell_type": "code",
   "execution_count": null,
   "metadata": {},
   "outputs": [],
   "source": []
  }
 ],
 "metadata": {
  "kernelspec": {
   "display_name": "madgrad",
   "language": "python",
   "name": "python3"
  },
  "language_info": {
   "codemirror_mode": {
    "name": "ipython",
    "version": 3
   },
   "file_extension": ".py",
   "mimetype": "text/x-python",
   "name": "python",
   "nbconvert_exporter": "python",
   "pygments_lexer": "ipython3",
   "version": "3.9.13"
  }
 },
 "nbformat": 4,
 "nbformat_minor": 2
}
